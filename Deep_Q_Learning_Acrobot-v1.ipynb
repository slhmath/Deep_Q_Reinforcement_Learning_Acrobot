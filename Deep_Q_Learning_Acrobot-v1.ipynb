{
 "cells": [
  {
   "cell_type": "code",
   "execution_count": 1,
   "id": "952182b7",
   "metadata": {},
   "outputs": [],
   "source": [
    "import sys\n",
    "import os\n",
    "import numpy as np\n",
    "import sklearn\n",
    "import tensorflow as tf\n",
    "from tensorflow import keras\n",
    "import gym"
   ]
  },
  {
   "cell_type": "code",
   "execution_count": 2,
   "id": "2ee35f2f",
   "metadata": {},
   "outputs": [],
   "source": [
    "# Choose the 'Acrobot-v1' environment in openai gym\n",
    "environ = gym.make('Acrobot-v1')"
   ]
  },
  {
   "cell_type": "code",
   "execution_count": 3,
   "id": "2de48a76",
   "metadata": {},
   "outputs": [
    {
     "name": "stdout",
     "output_type": "stream",
     "text": [
      "[ 0.99811082  0.06143937  0.99999579  0.00290001 -0.06177637 -0.06262504]\n",
      "Discrete(3)\n"
     ]
    }
   ],
   "source": [
    "environ.seed(1)\n",
    "observe = environ.reset()\n",
    "print(observe) # Represents the 2-d positions of joint-nodes and angular velocities \n",
    "print(environ.action_space) # 0,1 or 2. Torque left/right/none"
   ]
  },
  {
   "cell_type": "code",
   "execution_count": 4,
   "id": "0f417dc8",
   "metadata": {},
   "outputs": [
    {
     "name": "stdout",
     "output_type": "stream",
     "text": [
      "-1.0\n"
     ]
    }
   ],
   "source": [
    "action = environ.action_space.sample() # any discrete action has a reward of -1\n",
    "observe, reward, done, info = environ.step(action)\n",
    "print(reward)"
   ]
  },
  {
   "cell_type": "code",
   "execution_count": 5,
   "id": "81c02113",
   "metadata": {},
   "outputs": [
    {
     "name": "stderr",
     "output_type": "stream",
     "text": [
      "2021-09-23 13:40:58.948298: I tensorflow/core/platform/cpu_feature_guard.cc:142] This TensorFlow binary is optimized with oneAPI Deep Neural Network Library (oneDNN) to use the following CPU instructions in performance-critical operations:  AVX2 FMA\n",
      "To enable them in other operations, rebuild TensorFlow with the appropriate compiler flags.\n"
     ]
    }
   ],
   "source": [
    "# A deep neural net that will take part in online greedy policy improvement by approximating the Q-value funtion.\n",
    "# I chose a few hidden layers, just to get the ball rolling. \n",
    "keras.backend.clear_session()\n",
    "environ.seed(1)\n",
    "tf.random.set_seed(1)\n",
    "np.random.seed(1)\n",
    "\n",
    "in_shape = [environ.observation_space.shape[0]]\n",
    "n_out = environ.action_space.n\n",
    "\n",
    "model = keras.models.Sequential([\n",
    "    keras.layers.Dense(32, activation=\"relu\", input_shape=in_shape),\n",
    "    keras.layers.Dense(32, activation=\"relu\"),\n",
    "    keras.layers.Dense(32, activation=\"relu\"),\n",
    "    keras.layers.Dense(n_out, activation=\"softmax\")\n",
    "])"
   ]
  },
  {
   "cell_type": "code",
   "execution_count": 6,
   "id": "04d9d7c8",
   "metadata": {},
   "outputs": [],
   "source": [
    "# Setting up epsilon greedy (off policy) Q-Learning by creating a function that takes a uniformly random action with \n",
    "# probability epsilon. Otherwise it takes the action determined by greedy policy improvement.\n",
    "def epsilon_greedy(state, epsilon=0):\n",
    "    if np.random.rand() < epsilon: \n",
    "        return np.random.randint(n_out)\n",
    "    else:\n",
    "        Q_values = model.predict(state[np.newaxis])\n",
    "        return np.argmax(Q_values[0])"
   ]
  },
  {
   "cell_type": "code",
   "execution_count": 7,
   "id": "2233cf7c",
   "metadata": {},
   "outputs": [],
   "source": [
    "# Here we create a linked list, or a deque, which will store the experience of our agent. We will perform stochastic \n",
    "# gradient descent a la supervised learning given a sample of a fixed size from this deque of experiences. \n",
    "# We call this a replay buffer\n",
    "from collections import deque\n",
    "rep_buff = deque(maxlen=2000)"
   ]
  },
  {
   "cell_type": "code",
   "execution_count": 8,
   "id": "5d6cebde",
   "metadata": {},
   "outputs": [],
   "source": [
    "# A function that samples from the deque of experiences for the purpose of experience replay. \n",
    "# This 'batch method' avoids some of the pitfalls of value function approximation of classical Q-Learning.\n",
    "def sample_experiences(batch_size):\n",
    "    indices = np.random.randint(len(rep_buff), size=batch_size)\n",
    "    batch = [rep_buff[k] for k in indices]\n",
    "    states, actions, rewards, next_states, dones = [\n",
    "        np.array([experience[j] for experience in batch])\n",
    "        for j in range(5)]\n",
    "    return states, actions, rewards, next_states, dones"
   ]
  },
  {
   "cell_type": "code",
   "execution_count": 9,
   "id": "0558541d",
   "metadata": {},
   "outputs": [],
   "source": [
    "# A function that allows the agent to peform one step, using our previously defined epsilon_greedy function.\n",
    "def one_step(environ, state, epsilon):\n",
    "    action = epsilon_greedy(state, epsilon)\n",
    "    next_state, reward, done, info = environ.step(action)\n",
    "    rep_buff.append((state, action, reward, next_state, done))\n",
    "    return next_state, reward, done, info"
   ]
  },
  {
   "cell_type": "code",
   "execution_count": 10,
   "id": "0243cbf9",
   "metadata": {},
   "outputs": [],
   "source": [
    "# We set the sample size of experiences at 32. We chose a discount_rate of .99 (the future is important for the acrobot!)\n",
    "# Following convention, we chose the Adam optimizer and a learning_rate of 1/100. \n",
    "batch_size = 32\n",
    "discount_rate = 0.99\n",
    "optimizer = keras.optimizers.Adam(learning_rate=1e-2)\n",
    "loss_fn = keras.losses.mean_squared_error\n",
    "\n",
    "def training_step(batch_size):\n",
    "    states, actions, rewards, next_states, dones = sample_experiences(batch_size)\n",
    "    max_next_Q_values = np.max(model.predict(next_states), axis=1)\n",
    "    target_Q_values = (rewards + (1 - dones) * discount_rate * max_next_Q_values)\n",
    "    target_Q_values = target_Q_values.reshape(-1, 1)\n",
    "    mask = tf.one_hot(actions, n_out)\n",
    "    with tf.GradientTape() as tape:\n",
    "        all_Q_values = model(states)\n",
    "        Q_values = tf.reduce_sum(all_Q_values * mask, axis=1, keepdims=True)\n",
    "        loss = tf.reduce_mean(loss_fn(target_Q_values, Q_values))\n",
    "    grads = tape.gradient(loss, model.trainable_variables)\n",
    "    optimizer.apply_gradients(zip(grads, model.trainable_variables))"
   ]
  },
  {
   "cell_type": "code",
   "execution_count": 11,
   "id": "410be447",
   "metadata": {
    "scrolled": false
   },
   "outputs": [
    {
     "name": "stderr",
     "output_type": "stream",
     "text": [
      "2021-09-23 13:40:59.436700: I tensorflow/compiler/mlir/mlir_graph_optimization_pass.cc:176] None of the MLIR Optimization Passes are enabled (registered 2)\n",
      "2021-09-23 13:41:00.014 Python[13898:4061940] ApplePersistenceIgnoreState: Existing state will not be touched. New state will be written to (null)\n"
     ]
    },
    {
     "name": "stdout",
     "output_type": "stream",
     "text": [
      "Episode: 104, Steps: 298, epsilon: 0.164 It won!\n",
      "Episode: 122, Steps: 281, epsilon: 0.746 It won!\n",
      "Episode: 123, Steps: 207, epsilon: 0.551 It won!\n",
      "Episode: 168, Steps: 250, epsilon: 0.089 It won!\n",
      "Episode: 169, Steps: 226, epsilon: 0.026 It won!\n",
      "Episode: 170, Steps: 183, epsilon: 0.808 It won!\n",
      "Episode: 175, Steps: 230, epsilon: 0.742 It won!\n",
      "Episode: 186, Steps: 232, epsilon: 0.465 It won!\n",
      "Episode: 207, Steps: 291, epsilon: 0.354 It won!\n",
      "Episode: 208, Steps: 262, epsilon: 0.333 It won!\n",
      "Episode: 209, Steps: 287, epsilon: 0.862 It won!\n",
      "Episode: 210, Steps: 136, epsilon: 0.411 It won!\n",
      "Episode: 385, Steps: 232, epsilon: 0.343 It won!\n",
      "Episode: 499, Steps: 300, epsilon: 0.953"
     ]
    }
   ],
   "source": [
    "# Training phase.\n",
    "\n",
    "N_steps = 300\n",
    "N_episodes = 500\n",
    "n_steps = N_steps # initialize n_steps\n",
    "for episode in range(N_episodes):\n",
    "    observe = environ.reset()\n",
    "    for step in range(N_steps):\n",
    "        epsilon = np.random.uniform(0,1)\n",
    "        observe, reward, done, info = one_step(environ, observe, epsilon)\n",
    "        if done:\n",
    "            break\n",
    "        environ.render()\n",
    "    print(\"\\rEpisode: {}, Steps: {}, epsilon: {:.3f}\".format(episode, step + 1, epsilon), end=\"\")\n",
    "    if step < n_steps: \n",
    "        best_weights = model.get_weights() \n",
    "        n_steps = step\n",
    "        best_epsilon = epsilon\n",
    "    if done and step < N_steps - 1: \n",
    "        print(\" It won!\")\n",
    "    if episode > 50:\n",
    "        training_step(batch_size)\n",
    "\n",
    "model.set_weights(best_weights)"
   ]
  },
  {
   "cell_type": "code",
   "execution_count": 12,
   "id": "6f3c16b9",
   "metadata": {},
   "outputs": [
    {
     "name": "stdout",
     "output_type": "stream",
     "text": [
      "116\n"
     ]
    }
   ],
   "source": [
    "# Let's test the trained policy. Take 1. See 'Test_Run_1.gif' file in repository or READ_ME\n",
    "model.set_weights(best_weights)\n",
    "observe = environ.reset()\n",
    "for step in range(N_steps):\n",
    "    observe, reward, done, info = one_step(environ, observe, 0)\n",
    "    if done:\n",
    "        break\n",
    "    environ.render()\n",
    "print(step) \n"
   ]
  },
  {
   "cell_type": "code",
   "execution_count": 13,
   "id": "eb1c4b06",
   "metadata": {},
   "outputs": [
    {
     "name": "stdout",
     "output_type": "stream",
     "text": [
      "110\n"
     ]
    }
   ],
   "source": [
    "# Take 2. See 2nd .gif file in repository\n",
    "observe = environ.reset()\n",
    "for step in range(N_steps):\n",
    "    observe, reward, done, info = one_step(environ, observe, 0)\n",
    "    if done:\n",
    "        break\n",
    "    environ.render()\n",
    "print(step) \n"
   ]
  },
  {
   "cell_type": "code",
   "execution_count": 14,
   "id": "339440a5",
   "metadata": {},
   "outputs": [
    {
     "name": "stdout",
     "output_type": "stream",
     "text": [
      "119\n"
     ]
    }
   ],
   "source": [
    "# Take 3\n",
    "observe = environ.reset()\n",
    "for step in range(N_steps):\n",
    "    observe, reward, done, info = one_step(environ, observe, 0)\n",
    "    if done:\n",
    "        break\n",
    "    environ.render()\n",
    "print(step) \n"
   ]
  },
  {
   "cell_type": "code",
   "execution_count": 15,
   "id": "fb305422",
   "metadata": {},
   "outputs": [
    {
     "name": "stdout",
     "output_type": "stream",
     "text": [
      "132\n"
     ]
    }
   ],
   "source": [
    "# Take 4\n",
    "observe = environ.reset()\n",
    "for step in range(400):\n",
    "    observe, reward, done, info = one_step(environ, observe, 0)\n",
    "    if done:\n",
    "        break\n",
    "    environ.render()\n",
    "print(step) \n"
   ]
  }
 ],
 "metadata": {
  "kernelspec": {
   "display_name": "Python 3 (ipykernel)",
   "language": "python",
   "name": "python3"
  },
  "language_info": {
   "codemirror_mode": {
    "name": "ipython",
    "version": 3
   },
   "file_extension": ".py",
   "mimetype": "text/x-python",
   "name": "python",
   "nbconvert_exporter": "python",
   "pygments_lexer": "ipython3",
   "version": "3.7.7"
  }
 },
 "nbformat": 4,
 "nbformat_minor": 5
}
